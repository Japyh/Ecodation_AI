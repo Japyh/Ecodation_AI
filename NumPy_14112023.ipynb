{
 "cells": [
  {
   "cell_type": "code",
   "execution_count": 1,
   "id": "99794a32-cff3-41cb-ab35-8943b65a458a",
   "metadata": {},
   "outputs": [],
   "source": [
    "import numpy as np\n",
    "import warnings\n",
    "warnings.filterwarnings(\"ignore\")"
   ]
  },
  {
   "cell_type": "markdown",
   "id": "c46f386c-66b4-458c-af0b-6723fc64c94e",
   "metadata": {},
   "source": [
    "<img src=\"https://i.imgur.com/HPVTZpJ.png\" width=900>"
   ]
  },
  {
   "cell_type": "markdown",
   "id": "4dec10b4-29ae-495a-a549-ee231832c23a",
   "metadata": {},
   "source": [
    "#### Classic Python/NumPy Comparison - Why NumPy?"
   ]
  },
  {
   "cell_type": "code",
   "execution_count": 2,
   "id": "ed67a988-2eba-4a2d-9651-4cdf40f3e266",
   "metadata": {},
   "outputs": [
    {
     "data": {
      "text/plain": [
       "1.6897127628326416"
      ]
     },
     "execution_count": 2,
     "metadata": {},
     "output_type": "execute_result"
    }
   ],
   "source": [
    "from numpy import * \n",
    "import time\n",
    "def trad_version():\n",
    "    t1 = time.time()\n",
    "    X = range(10000000)\n",
    "    Y = range(10000000)\n",
    "    Z = []\n",
    "    for i in range(len(X)):\n",
    "        Z.append(X[i] + Y[i])\n",
    "    return time.time() - t1\n",
    "\n",
    "trad_version()"
   ]
  },
  {
   "cell_type": "code",
   "execution_count": 3,
   "id": "565a7cbd-2706-4a23-90b2-5365f3be4d7f",
   "metadata": {},
   "outputs": [
    {
     "data": {
      "text/plain": [
       "0.02934551239013672"
      ]
     },
     "execution_count": 3,
     "metadata": {},
     "output_type": "execute_result"
    }
   ],
   "source": [
    "def numpy_version():\n",
    "    t1 = time.time()\n",
    "    X = arange(10000000)\n",
    "    Y = arange(10000000)\n",
    "    Z = X + Y\n",
    "    return time.time() - t1\n",
    "\n",
    "numpy_version()"
   ]
  },
  {
   "cell_type": "code",
   "execution_count": 4,
   "id": "674ed8ba-9e27-4bb9-9e0e-99c5d239720c",
   "metadata": {},
   "outputs": [],
   "source": [
    "result = trad_version() / numpy_version()"
   ]
  },
  {
   "cell_type": "code",
   "execution_count": 7,
   "id": "f8f2ad1f-dcc1-4f55-a76c-a7924517ca48",
   "metadata": {},
   "outputs": [
    {
     "name": "stdout",
     "output_type": "stream",
     "text": [
      "NumPy is 60.16956982506418 times faster than Python.\n"
     ]
    }
   ],
   "source": [
    "print(f\"NumPy is {result} times faster than Python.\")"
   ]
  },
  {
   "cell_type": "markdown",
   "id": "b072838b-b42b-479b-9257-2366ba84e2ce",
   "metadata": {},
   "source": [
    "---"
   ]
  },
  {
   "cell_type": "code",
   "execution_count": 10,
   "id": "2d9b18af-9e0e-462d-8261-c2fb3f1dd3f0",
   "metadata": {},
   "outputs": [],
   "source": [
    "import numpy as np"
   ]
  },
  {
   "cell_type": "code",
   "execution_count": 9,
   "id": "d2e43fdb-f662-420c-aef3-104e3fbc1b8a",
   "metadata": {},
   "outputs": [
    {
     "data": {
      "text/plain": [
       "[10, 20, 30, 40, 50, 60]"
      ]
     },
     "execution_count": 9,
     "metadata": {},
     "output_type": "execute_result"
    }
   ],
   "source": [
    "# Creating a NumPy array from a Python list\n",
    "list1 = [10, 20, 30, 40, 50, 60]\n",
    "list1"
   ]
  },
  {
   "cell_type": "code",
   "execution_count": 14,
   "id": "f9d7bf9c-7eea-44b9-8354-62668cfa68ea",
   "metadata": {},
   "outputs": [
    {
     "data": {
      "text/plain": [
       "array([10, 20, 30, 40, 50, 60])"
      ]
     },
     "execution_count": 14,
     "metadata": {},
     "output_type": "execute_result"
    }
   ],
   "source": [
    "# Convert the list to a NumPy array\n",
    "arr1 = np.array(list1)\n",
    "arr1"
   ]
  },
  {
   "cell_type": "code",
   "execution_count": 34,
   "id": "8ee2c909-5102-4c51-b96f-a1707adc4d17",
   "metadata": {},
   "outputs": [
    {
     "data": {
      "text/plain": [
       "(numpy.ndarray, dtype('int32'), <memory at 0x000001CD1B31C040>)"
      ]
     },
     "execution_count": 34,
     "metadata": {},
     "output_type": "execute_result"
    }
   ],
   "source": [
    "# Display the type, data type, and data buffer of the NumPy array arr1\n",
    "type(arr1), arr1.dtype, arr1.data"
   ]
  },
  {
   "cell_type": "code",
   "execution_count": 17,
   "id": "eb6feb2f-3ece-4ca2-98c2-bd0941e6316a",
   "metadata": {},
   "outputs": [
    {
     "data": {
      "text/plain": [
       "array([10., 20., 30., 40., 50., 60.])"
      ]
     },
     "execution_count": 17,
     "metadata": {},
     "output_type": "execute_result"
    }
   ],
   "source": [
    "# Converts integer elements in 'arr1' to floats.\n",
    "arr1.astype(float)"
   ]
  },
  {
   "cell_type": "code",
   "execution_count": 35,
   "id": "0a61d166-0e49-448b-8d8c-fd1e6eede299",
   "metadata": {},
   "outputs": [
    {
     "data": {
      "text/plain": [
       "array([0, 1, 2, 3, 4, 5, 6, 7, 8, 9])"
      ]
     },
     "execution_count": 35,
     "metadata": {},
     "output_type": "execute_result"
    }
   ],
   "source": [
    "# Create a one-dimensional NumPy array with values ranging from 0 to 9\n",
    "np.arange(0, 10)"
   ]
  },
  {
   "cell_type": "code",
   "execution_count": 36,
   "id": "43f509e0-cfb1-47cb-9eb8-8d1c452258c5",
   "metadata": {},
   "outputs": [
    {
     "data": {
      "text/plain": [
       "array([ 0, 10, 20, 30, 40, 50, 60, 70, 80, 90])"
      ]
     },
     "execution_count": 36,
     "metadata": {},
     "output_type": "execute_result"
    }
   ],
   "source": [
    "# Create a one-dimensional NumPy array with values ranging from 0 to 90 with a step size of 10\n",
    "np.arange(0, 100, 10)"
   ]
  },
  {
   "cell_type": "code",
   "execution_count": 37,
   "id": "f7f7d884-e96a-49c4-8436-4e3b2bc34eaf",
   "metadata": {},
   "outputs": [
    {
     "data": {
      "text/plain": [
       "array([100,  90,  80,  70,  60,  50,  40,  30,  20,  10])"
      ]
     },
     "execution_count": 37,
     "metadata": {},
     "output_type": "execute_result"
    }
   ],
   "source": [
    "# Create a one-dimensional NumPy array with values ranging from 100 to 10 with a step size of -10\n",
    "np.arange(100, 0, -10)"
   ]
  },
  {
   "cell_type": "code",
   "execution_count": 31,
   "id": "e08f3061-8eae-4d3e-b3db-fa440ebe7019",
   "metadata": {},
   "outputs": [
    {
     "data": {
      "text/plain": [
       "(10,)"
      ]
     },
     "execution_count": 31,
     "metadata": {},
     "output_type": "execute_result"
    }
   ],
   "source": [
    "# Create a NumPy array with values ranging from 0 to 9\n",
    "arr2 = np.arange(10)\n",
    "# Display the shape of the NumPy array\n",
    "arr2.shape"
   ]
  },
  {
   "cell_type": "code",
   "execution_count": 32,
   "id": "817da7a7-62fb-4956-948d-0f941d2d415f",
   "metadata": {},
   "outputs": [
    {
     "data": {
      "text/plain": [
       "40"
      ]
     },
     "execution_count": 32,
     "metadata": {},
     "output_type": "execute_result"
    }
   ],
   "source": [
    "# Display the number of bytes consumed by the array\n",
    "arr2.nbytes"
   ]
  },
  {
   "cell_type": "code",
   "execution_count": 33,
   "id": "716de5be-5779-4ef7-9d4e-9579a9aeec0f",
   "metadata": {},
   "outputs": [
    {
     "data": {
      "text/plain": [
       "10"
      ]
     },
     "execution_count": 33,
     "metadata": {},
     "output_type": "execute_result"
    }
   ],
   "source": [
    "# Display the length of the NumPy array\n",
    "len(arr2)"
   ]
  },
  {
   "cell_type": "code",
   "execution_count": 42,
   "id": "c93d6963-6d13-43c8-b54b-b6b045608cf8",
   "metadata": {},
   "outputs": [
    {
     "data": {
      "text/plain": [
       "array([0., 0., 0., 0., 0., 0., 0., 0., 0., 0.])"
      ]
     },
     "execution_count": 42,
     "metadata": {},
     "output_type": "execute_result"
    }
   ],
   "source": [
    "# Create a one-dimensional NumPy array of zeros with length 10\n",
    "np.zeros(10)"
   ]
  },
  {
   "cell_type": "code",
   "execution_count": 43,
   "id": "3eaae745-a4bf-4484-8767-d0224db98f31",
   "metadata": {},
   "outputs": [
    {
     "data": {
      "text/plain": [
       "array([1., 1., 1., 1., 1., 1., 1., 1., 1., 1.])"
      ]
     },
     "execution_count": 43,
     "metadata": {},
     "output_type": "execute_result"
    }
   ],
   "source": [
    "# Create a one-dimensional NumPy array of ones with length 10\n",
    "np.ones(10)"
   ]
  },
  {
   "cell_type": "code",
   "execution_count": 44,
   "id": "ae8f7653-04c9-4c9f-9e07-92dd8d48fa48",
   "metadata": {},
   "outputs": [
    {
     "data": {
      "text/plain": [
       "array([10, 10, 10, 10, 10])"
      ]
     },
     "execution_count": 44,
     "metadata": {},
     "output_type": "execute_result"
    }
   ],
   "source": [
    "# Create a one-dimensional NumPy array by repeating the value 10 five times\n",
    "np.repeat(10, 5)"
   ]
  },
  {
   "cell_type": "code",
   "execution_count": 45,
   "id": "60520918-e31d-4c1d-a444-0fcf4054236b",
   "metadata": {},
   "outputs": [
    {
     "data": {
      "text/plain": [
       "array([10, 10, 10, 20, 20, 20, 30, 30, 30])"
      ]
     },
     "execution_count": 45,
     "metadata": {},
     "output_type": "execute_result"
    }
   ],
   "source": [
    "# Create a NumPy array 'a' with values [10, 20, 30]\n",
    "a = np.array([10, 20, 30])\n",
    "# Repeat each element in the array 'a' three times\n",
    "np.repeat(a, 3)"
   ]
  },
  {
   "cell_type": "code",
   "execution_count": 47,
   "id": "55d208a1-d685-438d-bd60-cf3637ad040e",
   "metadata": {},
   "outputs": [
    {
     "data": {
      "text/plain": [
       "array([10, 10, 10, 10, 10])"
      ]
     },
     "execution_count": 47,
     "metadata": {},
     "output_type": "execute_result"
    }
   ],
   "source": [
    "# Create a one-dimensional NumPy array of length 5 filled with the value 10\n",
    "np.full(5, 10)"
   ]
  },
  {
   "cell_type": "code",
   "execution_count": 49,
   "id": "183f76aa-aaa5-43dd-8d49-8b929baa5f98",
   "metadata": {},
   "outputs": [
    {
     "data": {
      "text/plain": [
       "array([ 1,  3,  5,  7,  9, 11, 13, 15, 17, 19])"
      ]
     },
     "execution_count": 49,
     "metadata": {},
     "output_type": "execute_result"
    }
   ],
   "source": [
    "arr3 = np.arange(1, 20)\n",
    "# Select elements from the array where the value is odd (using boolean indexing)\n",
    "arr3[arr3 % 2 == 1]"
   ]
  },
  {
   "cell_type": "code",
   "execution_count": 51,
   "id": "a301e746-2993-401c-873d-54a06ef48eb1",
   "metadata": {},
   "outputs": [
    {
     "data": {
      "text/plain": [
       "array([ 2,  4,  6,  8, 10, 12, 14, 16, 18])"
      ]
     },
     "execution_count": 51,
     "metadata": {},
     "output_type": "execute_result"
    }
   ],
   "source": [
    "# Select elements from the array where the value is even (using boolean indexing)\n",
    "arr3[arr3 % 2 == 0]"
   ]
  },
  {
   "cell_type": "code",
   "execution_count": 53,
   "id": "76dbc0bb-5910-4781-8c7f-e41bb6d13ac7",
   "metadata": {},
   "outputs": [
    {
     "data": {
      "text/plain": [
       "array([10.        , 13.33333333, 16.66666667, 20.        ])"
      ]
     },
     "execution_count": 53,
     "metadata": {},
     "output_type": "execute_result"
    }
   ],
   "source": [
    "# Create a one-dimensional NumPy array with 4 evenly spaced values from 10 to 20 (inclusive)\n",
    "np.linspace(10, 20, 4)"
   ]
  },
  {
   "cell_type": "code",
   "execution_count": 55,
   "id": "570e5104-8bf6-4694-a9b0-a2f9b105eeaf",
   "metadata": {},
   "outputs": [
    {
     "data": {
      "text/plain": [
       "array([10.        , 11.11111111, 12.22222222, 13.33333333, 14.44444444,\n",
       "       15.55555556, 16.66666667, 17.77777778, 18.88888889, 20.        ])"
      ]
     },
     "execution_count": 55,
     "metadata": {},
     "output_type": "execute_result"
    }
   ],
   "source": [
    "# Create a one-dimensional NumPy array with 10 evenly spaced values from 10 to 20 (inclusive)\n",
    "np.linspace(10, 20, 10)"
   ]
  },
  {
   "cell_type": "markdown",
   "id": "5cc90e67-233c-4d99-b757-896b8ea40019",
   "metadata": {},
   "source": [
    "* The **first random expression** is a module. The **second random expression** is a function inside that module."
   ]
  },
  {
   "cell_type": "code",
   "execution_count": 58,
   "id": "c7594e05-f0c7-4c8c-ad21-291b84efe9bc",
   "metadata": {},
   "outputs": [
    {
     "data": {
      "text/plain": [
       "array([0.45092456, 0.09574525, 0.90677531, 0.38306818])"
      ]
     },
     "execution_count": 58,
     "metadata": {},
     "output_type": "execute_result"
    }
   ],
   "source": [
    "# Creating a random number\n",
    "# Generate a one-dimensional NumPy array with 4 random values between 0 and 1\n",
    "np.random.random(4)"
   ]
  },
  {
   "cell_type": "code",
   "execution_count": 60,
   "id": "574ce999-355c-408c-a3ee-661b5b8bbed4",
   "metadata": {},
   "outputs": [
    {
     "data": {
      "text/plain": [
       "array([ 60, 357,  67,  33, 297])"
      ]
     },
     "execution_count": 60,
     "metadata": {},
     "output_type": "execute_result"
    }
   ],
   "source": [
    "# Generate a one-dimensional NumPy array with 5 random integers between 0 (inclusive) and 500 (exclusive)\n",
    "np.random.randint(0, 500, 5)"
   ]
  },
  {
   "cell_type": "code",
   "execution_count": 66,
   "id": "e40dbc32-7c9c-413e-9bf8-527de3bed982",
   "metadata": {},
   "outputs": [
    {
     "data": {
      "text/plain": [
       "array([66, 92, 98, 17, 83, 57, 86, 97, 96, 47])"
      ]
     },
     "execution_count": 66,
     "metadata": {},
     "output_type": "execute_result"
    }
   ],
   "source": [
    "# Seed\n",
    "# Set a seed for reproducibility\n",
    "np.random.seed(123)\n",
    "# Generate a one-dimensional NumPy array with 10 random integers between 0 (inclusive) and 100 (exclusive)\n",
    "np.random.randint(0, 100, 10)"
   ]
  },
  {
   "cell_type": "code",
   "execution_count": 67,
   "id": "13e01a1a-a7b7-4bc4-bc88-7ab190107243",
   "metadata": {},
   "outputs": [
    {
     "data": {
      "text/plain": [
       "array([73, 32, 46, 96, 25, 83, 78, 36, 96, 80])"
      ]
     },
     "execution_count": 67,
     "metadata": {},
     "output_type": "execute_result"
    }
   ],
   "source": [
    "# Generate a one-dimensional NumPy array with 10 random integers between 0 (inclusive) and 100 (exclusive)\n",
    "np.random.randint(0, 100, 10)"
   ]
  },
  {
   "cell_type": "code",
   "execution_count": 68,
   "id": "87cf355b-5af7-4c8a-b9f7-f69147c6452f",
   "metadata": {},
   "outputs": [
    {
     "data": {
      "text/plain": [
       "array([66, 92, 98, 17, 83, 57, 86, 97, 96, 47])"
      ]
     },
     "execution_count": 68,
     "metadata": {},
     "output_type": "execute_result"
    }
   ],
   "source": [
    "np.random.seed(123)\n",
    "# Generate a one-dimensional NumPy array with 10 random integers between 0 (inclusive) and 100 (exclusive)\n",
    "np.random.randint(0, 100, 10)"
   ]
  },
  {
   "cell_type": "code",
   "execution_count": 69,
   "id": "7691da2b-eb7d-4772-8819-ed58b6df4fb9",
   "metadata": {},
   "outputs": [
    {
     "data": {
      "text/plain": [
       "array([95, 11, 81, 70, 63, 87, 75,  9, 77, 40])"
      ]
     },
     "execution_count": 69,
     "metadata": {},
     "output_type": "execute_result"
    }
   ],
   "source": [
    "# Set a seed for reproducibility\n",
    "np.random.seed(101)\n",
    "# Generate a one-dimensional NumPy array with 10 random integers between 0 (inclusive) and 100 (exclusive)\n",
    "np.random.randint(0, 100, 10)"
   ]
  },
  {
   "cell_type": "code",
   "execution_count": 71,
   "id": "d51c8d29-cfab-42e2-bbf5-6f967a6699f4",
   "metadata": {},
   "outputs": [
    {
     "data": {
      "text/plain": [
       "array([5.41780717, 8.01774211, 8.64496379, 6.38119414, 8.42653164,\n",
       "       7.58933737, 5.24242269, 5.68934619, 5.93483713, 9.97158951])"
      ]
     },
     "execution_count": 71,
     "metadata": {},
     "output_type": "execute_result"
    }
   ],
   "source": [
    "# Generate a one-dimensional NumPy array with 10 random values drawn from a uniform distribution between 5 and 10\n",
    "f1 = np.random.uniform(5, 10, size=10)\n",
    "f1"
   ]
  },
  {
   "cell_type": "code",
   "execution_count": 73,
   "id": "6bd19417-70e8-462f-9aa8-c1b5ad1d35a2",
   "metadata": {},
   "outputs": [
    {
     "data": {
      "text/plain": [
       "array([5., 8., 8., 6., 8., 7., 5., 5., 5., 9.])"
      ]
     },
     "execution_count": 73,
     "metadata": {},
     "output_type": "execute_result"
    }
   ],
   "source": [
    "# Apply the floor function to round down each element in the array to the nearest integer\n",
    "np.floor(f1)"
   ]
  },
  {
   "cell_type": "code",
   "execution_count": 76,
   "id": "2ea64f81-7400-426c-8a0b-fb7df1470d09",
   "metadata": {},
   "outputs": [
    {
     "data": {
      "text/plain": [
       "array([5., 8., 8., 6., 8., 7., 5., 5., 5., 9.])"
      ]
     },
     "execution_count": 76,
     "metadata": {},
     "output_type": "execute_result"
    }
   ],
   "source": [
    "# Apply the truncation function to remove the decimal part of each element in the array\n",
    "np.trunc(f1)"
   ]
  },
  {
   "cell_type": "code",
   "execution_count": 78,
   "id": "9fbc151b-497f-4fef-9005-2d7d4d02a538",
   "metadata": {},
   "outputs": [
    {
     "data": {
      "text/plain": [
       "array([5, 8, 8, 6, 8, 7, 5, 5, 5, 9])"
      ]
     },
     "execution_count": 78,
     "metadata": {},
     "output_type": "execute_result"
    }
   ],
   "source": [
    "# Convert the data type of the NumPy array f1 to integer, effectively truncating the decimal part\n",
    "f1.astype(int)"
   ]
  },
  {
   "cell_type": "code",
   "execution_count": 80,
   "id": "248f2335-aa14-4d65-bd28-6f75d0fdfa02",
   "metadata": {},
   "outputs": [
    {
     "data": {
      "text/plain": [
       "array([ 0.80770591,  0.07295968,  0.63878701,  0.3296463 , -0.49710402,\n",
       "       -0.7540697 , -0.9434064 ,  0.48475165, -0.11677332,  1.9017548 ])"
      ]
     },
     "execution_count": 80,
     "metadata": {},
     "output_type": "execute_result"
    }
   ],
   "source": [
    "# Generate a one-dimensional NumPy array with 10 random values drawn from a standard normal distribution (mean=0, std=1)\n",
    "f2 = np.random.randn(10)\n",
    "f2"
   ]
  },
  {
   "cell_type": "code",
   "execution_count": 84,
   "id": "ecbe3a5e-5606-46cc-a9c1-2113e62c4622",
   "metadata": {},
   "outputs": [
    {
     "name": "stdout",
     "output_type": "stream",
     "text": [
      "(0,) 10\n",
      "(1,) 20\n",
      "(2,) 30\n",
      "(3,) 40\n",
      "(4,) 50\n",
      "(5,) 60\n"
     ]
    }
   ],
   "source": [
    "# Enumeration\n",
    "for index, value in np.ndenumerate(arr1):\n",
    "    print(index, value)"
   ]
  },
  {
   "cell_type": "markdown",
   "id": "e7723a1a-70e3-4f2d-af3f-080a18d6e027",
   "metadata": {},
   "source": [
    "### Operations on the arrays"
   ]
  },
  {
   "cell_type": "code",
   "execution_count": 87,
   "id": "8a8efcd1-0c91-41c1-b0c1-eb4c4ccf3413",
   "metadata": {},
   "outputs": [
    {
     "data": {
      "text/plain": [
       "array([ 1,  2,  3,  4,  5,  6,  7,  8,  9, 10, 11, 12, 13, 14, 15, 16, 17,\n",
       "       18, 19])"
      ]
     },
     "execution_count": 87,
     "metadata": {},
     "output_type": "execute_result"
    }
   ],
   "source": [
    "arr3 = np.arange(1, 20)\n",
    "arr3"
   ]
  },
  {
   "cell_type": "code",
   "execution_count": 101,
   "id": "b0f2fc4b-aac1-4fd9-8e63-36156b8d24a3",
   "metadata": {},
   "outputs": [
    {
     "data": {
      "text/plain": [
       "190"
      ]
     },
     "execution_count": 101,
     "metadata": {},
     "output_type": "execute_result"
    }
   ],
   "source": [
    "# Calculate the sum of all elements in the NumPy array arr3\n",
    "arr3.sum()"
   ]
  },
  {
   "cell_type": "code",
   "execution_count": 102,
   "id": "15614fdb-4d67-4280-8607-48114b089ff1",
   "metadata": {},
   "outputs": [
    {
     "data": {
      "text/plain": [
       "array([  1,   3,   6,  10,  15,  21,  28,  36,  45,  55,  66,  78,  91,\n",
       "       105, 120, 136, 153, 171, 190])"
      ]
     },
     "execution_count": 102,
     "metadata": {},
     "output_type": "execute_result"
    }
   ],
   "source": [
    "# Calculate the cumulative sum of elements in the NumPy array arr3\n",
    "np.cumsum(arr3)"
   ]
  },
  {
   "cell_type": "code",
   "execution_count": 103,
   "id": "b6de9da0-0605-44b6-99a4-42645cc18812",
   "metadata": {},
   "outputs": [
    {
     "data": {
      "text/plain": [
       "1"
      ]
     },
     "execution_count": 103,
     "metadata": {},
     "output_type": "execute_result"
    }
   ],
   "source": [
    "# Find the minimum value in the NumPy array arr3\n",
    "arr3.min()"
   ]
  },
  {
   "cell_type": "code",
   "execution_count": 104,
   "id": "4926e4da-1426-43e8-803a-1d3066b18cbc",
   "metadata": {},
   "outputs": [
    {
     "data": {
      "text/plain": [
       "19"
      ]
     },
     "execution_count": 104,
     "metadata": {},
     "output_type": "execute_result"
    }
   ],
   "source": [
    "# Find the maximum value in the NumPy array arr3\n",
    "arr3.max()"
   ]
  },
  {
   "cell_type": "code",
   "execution_count": 105,
   "id": "16282e63-cd73-4fc7-8601-d5474ed2c5ac",
   "metadata": {},
   "outputs": [
    {
     "data": {
      "text/plain": [
       "0"
      ]
     },
     "execution_count": 105,
     "metadata": {},
     "output_type": "execute_result"
    }
   ],
   "source": [
    "# Find the index of the minimum value in the NumPy array arr3\n",
    "arr3.argmin()"
   ]
  },
  {
   "cell_type": "code",
   "execution_count": 106,
   "id": "c7155efc-cc49-4434-b86f-8bd7543abec4",
   "metadata": {},
   "outputs": [
    {
     "data": {
      "text/plain": [
       "18"
      ]
     },
     "execution_count": 106,
     "metadata": {},
     "output_type": "execute_result"
    }
   ],
   "source": [
    "# Find the index of the maximum value in the NumPy array arr3\n",
    "arr3.argmax()"
   ]
  },
  {
   "cell_type": "code",
   "execution_count": 107,
   "id": "39b3fc4e-0082-4a49-965f-9adf2d97090e",
   "metadata": {},
   "outputs": [
    {
     "data": {
      "text/plain": [
       "10.0"
      ]
     },
     "execution_count": 107,
     "metadata": {},
     "output_type": "execute_result"
    }
   ],
   "source": [
    "# Calculate the mean (average) of elements in the NumPy array arr3\n",
    "arr3.mean()"
   ]
  },
  {
   "cell_type": "code",
   "execution_count": 108,
   "id": "799be830-c207-42c7-95f5-ddd3616f7635",
   "metadata": {},
   "outputs": [
    {
     "data": {
      "text/plain": [
       "10.0"
      ]
     },
     "execution_count": 108,
     "metadata": {},
     "output_type": "execute_result"
    }
   ],
   "source": [
    "# Calculate the median of elements in the NumPy array arr3\n",
    "np.median(arr3)"
   ]
  },
  {
   "cell_type": "code",
   "execution_count": 109,
   "id": "9d058edc-d033-4f09-9ba7-0074be464585",
   "metadata": {},
   "outputs": [
    {
     "data": {
      "text/plain": [
       "30.0"
      ]
     },
     "execution_count": 109,
     "metadata": {},
     "output_type": "execute_result"
    }
   ],
   "source": [
    "# Calculate the variance of elements in the NumPy array arr3\n",
    "arr3.var()"
   ]
  },
  {
   "cell_type": "code",
   "execution_count": 110,
   "id": "97309810-27d3-4b45-aca9-11dcaf2f92ee",
   "metadata": {},
   "outputs": [
    {
     "data": {
      "text/plain": [
       "5.477225575051661"
      ]
     },
     "execution_count": 110,
     "metadata": {},
     "output_type": "execute_result"
    }
   ],
   "source": [
    "# Calculate the standard deviation of elements in the NumPy array arr3\n",
    "np.std(arr3)"
   ]
  },
  {
   "cell_type": "markdown",
   "id": "bd303f6d-63a6-416c-a846-a6e02b056970",
   "metadata": {},
   "source": [
    "### 2D Arrays"
   ]
  },
  {
   "cell_type": "markdown",
   "id": "3f6cedac-d4c5-4773-ab80-e3a4432fa7a8",
   "metadata": {},
   "source": [
    "**0D** ---> Point\n",
    "\n",
    "**1D** ---> Vector\n",
    "\n",
    "**2D** ---> Matrix\n",
    "\n",
    "**\\>=3D** ---> Tensor, Matrix"
   ]
  },
  {
   "cell_type": "code",
   "execution_count": 111,
   "id": "88437ff2-6107-475f-9045-d40ac3f1a80d",
   "metadata": {},
   "outputs": [
    {
     "data": {
      "text/plain": [
       "array([[ 1,  2,  3,  0],\n",
       "       [ 5,  6,  7, 22],\n",
       "       [10, 11,  1, 13],\n",
       "       [14, 15, 16,  3]])"
      ]
     },
     "execution_count": 111,
     "metadata": {},
     "output_type": "execute_result"
    }
   ],
   "source": [
    "A = np.array([[1, 2, 3, 0],\n",
    "              [5, 6, 7, 22],\n",
    "              [10, 11, 1, 13],\n",
    "              [14, 15, 16, 3]])\n",
    "\n",
    "A"
   ]
  },
  {
   "cell_type": "code",
   "execution_count": 112,
   "id": "91938365-a6bd-4962-9608-1092a4fcdf08",
   "metadata": {},
   "outputs": [
    {
     "data": {
      "text/plain": [
       "129"
      ]
     },
     "execution_count": 112,
     "metadata": {},
     "output_type": "execute_result"
    }
   ],
   "source": [
    "A.sum()"
   ]
  },
  {
   "cell_type": "code",
   "execution_count": 113,
   "id": "301e38c4-e203-45d6-9528-9c2f138c69f6",
   "metadata": {},
   "outputs": [
    {
     "data": {
      "text/plain": [
       "22"
      ]
     },
     "execution_count": 113,
     "metadata": {},
     "output_type": "execute_result"
    }
   ],
   "source": [
    "A.max()"
   ]
  },
  {
   "cell_type": "code",
   "execution_count": 114,
   "id": "ad641452-e48a-4ca3-b679-62c4538ab38b",
   "metadata": {},
   "outputs": [
    {
     "data": {
      "text/plain": [
       "0"
      ]
     },
     "execution_count": 114,
     "metadata": {},
     "output_type": "execute_result"
    }
   ],
   "source": [
    "A.min()"
   ]
  },
  {
   "cell_type": "code",
   "execution_count": 115,
   "id": "25c22a7d-6d13-4714-af17-25e1851d3bee",
   "metadata": {},
   "outputs": [
    {
     "data": {
      "text/plain": [
       "array([  1,   3,   6,   6,  11,  17,  24,  46,  56,  67,  68,  81,  95,\n",
       "       110, 126, 129])"
      ]
     },
     "execution_count": 115,
     "metadata": {},
     "output_type": "execute_result"
    }
   ],
   "source": [
    "A.cumsum()"
   ]
  },
  {
   "cell_type": "code",
   "execution_count": 116,
   "id": "5fe5b706-9887-411b-924a-3076b328b892",
   "metadata": {},
   "outputs": [
    {
     "data": {
      "text/plain": [
       "3"
      ]
     },
     "execution_count": 116,
     "metadata": {},
     "output_type": "execute_result"
    }
   ],
   "source": [
    "A.argmin()"
   ]
  },
  {
   "cell_type": "code",
   "execution_count": 117,
   "id": "1ff3f6a0-c29f-44c9-8ac8-8247aa433c4d",
   "metadata": {},
   "outputs": [
    {
     "data": {
      "text/plain": [
       "7"
      ]
     },
     "execution_count": 117,
     "metadata": {},
     "output_type": "execute_result"
    }
   ],
   "source": [
    "A.argmax()"
   ]
  },
  {
   "cell_type": "code",
   "execution_count": 118,
   "id": "1c44e726-2c2a-4fb4-9d20-131ee8d96220",
   "metadata": {},
   "outputs": [
    {
     "data": {
      "text/plain": [
       "8.0625"
      ]
     },
     "execution_count": 118,
     "metadata": {},
     "output_type": "execute_result"
    }
   ],
   "source": [
    "A.mean()"
   ]
  },
  {
   "cell_type": "code",
   "execution_count": 120,
   "id": "4b27921a-4060-407f-90bd-0c39d536ba3b",
   "metadata": {},
   "outputs": [
    {
     "data": {
      "text/plain": [
       "6.5"
      ]
     },
     "execution_count": 120,
     "metadata": {},
     "output_type": "execute_result"
    }
   ],
   "source": [
    "np.median(A)"
   ]
  },
  {
   "cell_type": "code",
   "execution_count": 121,
   "id": "8fc31d31-b275-4431-90be-17089b9e7b76",
   "metadata": {},
   "outputs": [
    {
     "data": {
      "text/plain": [
       "40.30859375"
      ]
     },
     "execution_count": 121,
     "metadata": {},
     "output_type": "execute_result"
    }
   ],
   "source": [
    "A.var()"
   ]
  },
  {
   "cell_type": "code",
   "execution_count": 122,
   "id": "3508fd69-bd3f-45d0-8ea6-773b10c44702",
   "metadata": {},
   "outputs": [
    {
     "data": {
      "text/plain": [
       "6.348904925260734"
      ]
     },
     "execution_count": 122,
     "metadata": {},
     "output_type": "execute_result"
    }
   ],
   "source": [
    "np.std(A)"
   ]
  },
  {
   "cell_type": "markdown",
   "id": "7e57d31a-74c0-4064-b50b-72b10ab3aafa",
   "metadata": {},
   "source": [
    "<img src=\"https://www.sharpsightlabs.com/wp-content/uploads/2018/12/numpy-arrays-have-axes_updated_v2.png\" width=500>"
   ]
  },
  {
   "cell_type": "code",
   "execution_count": 125,
   "id": "87eddd0c-c1f3-489c-9853-03b65b453e28",
   "metadata": {},
   "outputs": [
    {
     "data": {
      "text/plain": [
       "array([1, 2, 1, 0])"
      ]
     },
     "execution_count": 125,
     "metadata": {},
     "output_type": "execute_result"
    }
   ],
   "source": [
    "# Column-based minimum value\n",
    "np.amin(A, axis=0)"
   ]
  },
  {
   "cell_type": "code",
   "execution_count": 126,
   "id": "1c48c2ef-4594-472f-8244-58900392d8f6",
   "metadata": {},
   "outputs": [
    {
     "data": {
      "text/plain": [
       "array([0, 5, 1, 3])"
      ]
     },
     "execution_count": 126,
     "metadata": {},
     "output_type": "execute_result"
    }
   ],
   "source": [
    "# Row-based minimum value\n",
    "np.amin(A, axis=1)"
   ]
  },
  {
   "cell_type": "code",
   "execution_count": 127,
   "id": "a7b29891-dd7b-4661-a65e-e1d7c5471256",
   "metadata": {},
   "outputs": [
    {
     "name": "stdout",
     "output_type": "stream",
     "text": [
      "(0, 0) 1\n",
      "(0, 1) 2\n",
      "(0, 2) 3\n",
      "(0, 3) 0\n",
      "(1, 0) 5\n",
      "(1, 1) 6\n",
      "(1, 2) 7\n",
      "(1, 3) 22\n",
      "(2, 0) 10\n",
      "(2, 1) 11\n",
      "(2, 2) 1\n",
      "(2, 3) 13\n",
      "(3, 0) 14\n",
      "(3, 1) 15\n",
      "(3, 2) 16\n",
      "(3, 3) 3\n"
     ]
    }
   ],
   "source": [
    "for index, value in np.ndenumerate(A):\n",
    "    print(index, value)"
   ]
  },
  {
   "cell_type": "markdown",
   "id": "3188cec4-2b60-4b39-b5ea-7bddc219e1ae",
   "metadata": {},
   "source": [
    "### Element replacement / conversion"
   ]
  },
  {
   "cell_type": "code",
   "execution_count": 129,
   "id": "91a2ca2f-f4e2-43d8-8831-e9f23dd3c070",
   "metadata": {},
   "outputs": [
    {
     "data": {
      "text/plain": [
       "array([ 1,  2,  3,  4,  5,  6,  7,  8,  9, 10, 11, 12, 13, 14, 15, 16, 17,\n",
       "       18, 19])"
      ]
     },
     "execution_count": 129,
     "metadata": {},
     "output_type": "execute_result"
    }
   ],
   "source": [
    "ar = np.arange(1, 20)\n",
    "ar"
   ]
  },
  {
   "cell_type": "code",
   "execution_count": 136,
   "id": "a16d1a0e-98a0-40a4-a263-af41b085bb1a",
   "metadata": {},
   "outputs": [
    {
     "name": "stdout",
     "output_type": "stream",
     "text": [
      "[ 1  0  3  0  5  0  7  0  9  0 11  0 13  0 15  0 17  0 19]\n"
     ]
    }
   ],
   "source": [
    "# Use np.where to replace even elements with 0 and keep odd elements unchanged\n",
    "rep1 = np.where(ar % 2 == 0, 0, ar)\n",
    "print(rep1)"
   ]
  },
  {
   "cell_type": "code",
   "execution_count": 131,
   "id": "21bf826f-8297-4dc4-824d-767998429855",
   "metadata": {},
   "outputs": [
    {
     "data": {
      "text/plain": [
       "array([10, 20, 30, 10, 10, 20, 20])"
      ]
     },
     "execution_count": 131,
     "metadata": {},
     "output_type": "execute_result"
    }
   ],
   "source": [
    "ar2 = np.array([10, 20, 30, 10, 10, 20, 20])\n",
    "ar2"
   ]
  },
  {
   "cell_type": "code",
   "execution_count": 137,
   "id": "292429a3-094e-4b12-8d45-21411b3302b4",
   "metadata": {},
   "outputs": [
    {
     "name": "stdout",
     "output_type": "stream",
     "text": [
      "[99 20 30 99 99 20 20]\n"
     ]
    }
   ],
   "source": [
    "# Use np.where to replace occurrences of the value 10 with 99 in the NumPy array ar2\n",
    "rep2 = np.where(ar2 == 10, 99, ar2)\n",
    "print(rep2)"
   ]
  },
  {
   "cell_type": "code",
   "execution_count": 133,
   "id": "7ea4bbe9-f173-4f08-8c1d-330ce86962af",
   "metadata": {},
   "outputs": [
    {
     "data": {
      "text/plain": [
       "array([ 0, 10, 20, 30, 40, 50, 60, 70, 80, 90])"
      ]
     },
     "execution_count": 133,
     "metadata": {},
     "output_type": "execute_result"
    }
   ],
   "source": [
    "ar3 = np.arange(0, 100, 10)\n",
    "ar3"
   ]
  },
  {
   "cell_type": "code",
   "execution_count": 138,
   "id": "69928954-7e58-42be-a35f-6bdd76dc586b",
   "metadata": {},
   "outputs": [
    {
     "data": {
      "text/plain": [
       "array([33, 10, 20, 55, 40, 99, 60, 70, 80, 90])"
      ]
     },
     "execution_count": 138,
     "metadata": {},
     "output_type": "execute_result"
    }
   ],
   "source": [
    "# Use np.put to replace specific elements at indices 0, 3, and 5 with values 33, 55, and 99 respectively\n",
    "np.put(ar3, [0, 3, 5], [33, 55, 99])\n",
    "ar3"
   ]
  },
  {
   "cell_type": "markdown",
   "id": "716059b9-dd36-412c-83e9-f3438da62f23",
   "metadata": {},
   "source": [
    "### Dealing with missing values"
   ]
  },
  {
   "cell_type": "code",
   "execution_count": 140,
   "id": "b21ab62e-a086-4698-a919-f6b206bd4952",
   "metadata": {},
   "outputs": [
    {
     "data": {
      "text/plain": [
       "array([10., nan, 20., 30., 60., nan, 90., inf])"
      ]
     },
     "execution_count": 140,
     "metadata": {},
     "output_type": "execute_result"
    }
   ],
   "source": [
    "a = np.array([10, np.nan, 20, 30, 60, np.nan, 90, np.inf])\n",
    "a"
   ]
  },
  {
   "cell_type": "code",
   "execution_count": 144,
   "id": "c7628e90-22fd-4250-a547-e19f0a232a2f",
   "metadata": {},
   "outputs": [
    {
     "data": {
      "text/plain": [
       "array([False, False, False, False, False, False, False, False])"
      ]
     },
     "execution_count": 144,
     "metadata": {},
     "output_type": "execute_result"
    }
   ],
   "source": [
    "# Use np.isnan to check for NaN values in the array 'a'\n",
    "np.isnan(a)"
   ]
  },
  {
   "cell_type": "code",
   "execution_count": 145,
   "id": "27548b79-57b8-4f8a-b110-b82bb53c8810",
   "metadata": {},
   "outputs": [
    {
     "data": {
      "text/plain": [
       "(array([], dtype=int64),)"
      ]
     },
     "execution_count": 145,
     "metadata": {},
     "output_type": "execute_result"
    }
   ],
   "source": [
    "# Use np.where to get the indices of NaN values in 'a'\n",
    "np.where(np.isnan(a))"
   ]
  },
  {
   "cell_type": "code",
   "execution_count": 146,
   "id": "361f03b8-6600-4f22-9695-0f7e47da86ac",
   "metadata": {},
   "outputs": [
    {
     "data": {
      "text/plain": [
       "array([10., 99., 20., 30., 60., 99., 90., inf])"
      ]
     },
     "execution_count": 146,
     "metadata": {},
     "output_type": "execute_result"
    }
   ],
   "source": [
    "# Replace NaN values in 'a' with a specific value, in this case, replace NaN with 99\n",
    "a[np.isnan(a)] = 99\n",
    "a"
   ]
  },
  {
   "cell_type": "code",
   "execution_count": 148,
   "id": "e0bfcbf0-8f2c-40e8-bca5-eddf312155ca",
   "metadata": {},
   "outputs": [
    {
     "data": {
      "text/plain": [
       "False"
      ]
     },
     "execution_count": 148,
     "metadata": {},
     "output_type": "execute_result"
    }
   ],
   "source": [
    "# Check if there are any NaN values in the array 'a' using np.isnan\n",
    "np.isnan(a).any()"
   ]
  },
  {
   "cell_type": "code",
   "execution_count": 149,
   "id": "6b12398f-c0e8-4723-9d79-53c2d61717cd",
   "metadata": {},
   "outputs": [
    {
     "data": {
      "text/plain": [
       "array([[ 1.,  2., nan,  4.],\n",
       "       [nan,  6.,  7.,  8.],\n",
       "       [10., nan, 12., 13.],\n",
       "       [14., 15., 16., 17.]])"
      ]
     },
     "execution_count": 149,
     "metadata": {},
     "output_type": "execute_result"
    }
   ],
   "source": [
    "A = np.array([[1, 2, np.nan, 4],\n",
    "              [np.nan, 6, 7, 8],\n",
    "              [10, np.nan, 12, 13],\n",
    "              [14, 15, 16, 17]])\n",
    "\n",
    "A"
   ]
  },
  {
   "cell_type": "code",
   "execution_count": 150,
   "id": "755f908d-4b76-4c1c-940f-e7cdafe43d18",
   "metadata": {},
   "outputs": [
    {
     "data": {
      "text/plain": [
       "array([[False, False,  True, False],\n",
       "       [ True, False, False, False],\n",
       "       [False,  True, False, False],\n",
       "       [False, False, False, False]])"
      ]
     },
     "execution_count": 150,
     "metadata": {},
     "output_type": "execute_result"
    }
   ],
   "source": [
    "np.isnan(A)"
   ]
  },
  {
   "cell_type": "code",
   "execution_count": 151,
   "id": "11a88eea-d83d-4f04-990c-e75d24c7c2f1",
   "metadata": {},
   "outputs": [
    {
     "data": {
      "text/plain": [
       "True"
      ]
     },
     "execution_count": 151,
     "metadata": {},
     "output_type": "execute_result"
    }
   ],
   "source": [
    "np.isnan(A).any()"
   ]
  },
  {
   "cell_type": "code",
   "execution_count": 152,
   "id": "dbe7482d-3914-4640-bf37-2b20f7b3d54f",
   "metadata": {},
   "outputs": [
    {
     "data": {
      "text/plain": [
       "(array([0, 1, 2], dtype=int64), array([2, 0, 1], dtype=int64))"
      ]
     },
     "execution_count": 152,
     "metadata": {},
     "output_type": "execute_result"
    }
   ],
   "source": [
    "np.where(np.isnan(A))"
   ]
  }
 ],
 "metadata": {
  "kernelspec": {
   "display_name": "Python 3 (ipykernel)",
   "language": "python",
   "name": "python3"
  },
  "language_info": {
   "codemirror_mode": {
    "name": "ipython",
    "version": 3
   },
   "file_extension": ".py",
   "mimetype": "text/x-python",
   "name": "python",
   "nbconvert_exporter": "python",
   "pygments_lexer": "ipython3",
   "version": "3.11.5"
  }
 },
 "nbformat": 4,
 "nbformat_minor": 5
}
